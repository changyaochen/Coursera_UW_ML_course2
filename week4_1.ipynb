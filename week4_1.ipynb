{
 "cells": [
  {
   "cell_type": "code",
   "execution_count": 1,
   "metadata": {},
   "outputs": [],
   "source": [
    "%matplotlib inline\n",
    "import matplotlib.pyplot as plt\n",
    "import seaborn as sns\n",
    "import pandas as pd\n",
    "import numpy as np"
   ]
  },
  {
   "cell_type": "code",
   "execution_count": 3,
   "metadata": {},
   "outputs": [],
   "source": [
    "dtype_dict = {'bathrooms':float, 'waterfront':int, 'sqft_above':int, 'sqft_living15':float, 'grade':int, \n",
    "              'yr_renovated':int, 'price':float, 'bedrooms':float, 'zipcode':str, 'long':float, \n",
    "              'sqft_lot15':float, 'sqft_living':float, 'floors':str, 'condition':int, 'lat':float, \n",
    "              'date':str, 'sqft_basement':int, 'yr_built':int, 'id':str, 'sqft_lot':int, 'view':int}\n",
    "\n",
    "def polynomial_dataframe(feature, degree): # feature is pandas.Series type\n",
    "    # assume that degree >= 1\n",
    "    # initialize the dataframe:\n",
    "    poly_dataframe = pd.DataFrame()\n",
    "    # and set poly_dataframe['power_1'] equal to the passed feature\n",
    "    poly_dataframe['power_1'] = feature\n",
    "    # first check if degree > 1\n",
    "    if degree > 1:\n",
    "        # then loop over the remaining degrees:\n",
    "        for power in range(2, degree+1):\n",
    "            # first we'll give the column a name:\n",
    "            name = 'power_' + str(power)\n",
    "            # assign poly_dataframe[name] to be feature^power; use apply(*)\n",
    "            poly_dataframe[name] = feature.apply(lambda x: x**power)\n",
    "    return poly_dataframe"
   ]
  },
  {
   "cell_type": "code",
   "execution_count": 4,
   "metadata": {},
   "outputs": [
    {
     "data": {
      "text/html": [
       "<div>\n",
       "<table border=\"1\" class=\"dataframe\">\n",
       "  <thead>\n",
       "    <tr style=\"text-align: right;\">\n",
       "      <th></th>\n",
       "      <th>id</th>\n",
       "      <th>date</th>\n",
       "      <th>price</th>\n",
       "      <th>bedrooms</th>\n",
       "      <th>bathrooms</th>\n",
       "      <th>sqft_living</th>\n",
       "      <th>sqft_lot</th>\n",
       "      <th>floors</th>\n",
       "      <th>waterfront</th>\n",
       "      <th>view</th>\n",
       "      <th>...</th>\n",
       "      <th>grade</th>\n",
       "      <th>sqft_above</th>\n",
       "      <th>sqft_basement</th>\n",
       "      <th>yr_built</th>\n",
       "      <th>yr_renovated</th>\n",
       "      <th>zipcode</th>\n",
       "      <th>lat</th>\n",
       "      <th>long</th>\n",
       "      <th>sqft_living15</th>\n",
       "      <th>sqft_lot15</th>\n",
       "    </tr>\n",
       "  </thead>\n",
       "  <tbody>\n",
       "    <tr>\n",
       "      <th>0</th>\n",
       "      <td>3980300371</td>\n",
       "      <td>2014-09-26</td>\n",
       "      <td>142000.0</td>\n",
       "      <td>0.0</td>\n",
       "      <td>0.00</td>\n",
       "      <td>290.0</td>\n",
       "      <td>20875</td>\n",
       "      <td>1</td>\n",
       "      <td>0</td>\n",
       "      <td>0</td>\n",
       "      <td>...</td>\n",
       "      <td>1</td>\n",
       "      <td>290</td>\n",
       "      <td>0</td>\n",
       "      <td>1963</td>\n",
       "      <td>0</td>\n",
       "      <td>98024</td>\n",
       "      <td>47.5308</td>\n",
       "      <td>-121.888</td>\n",
       "      <td>1620.0</td>\n",
       "      <td>22850.0</td>\n",
       "    </tr>\n",
       "    <tr>\n",
       "      <th>1</th>\n",
       "      <td>2856101479</td>\n",
       "      <td>2014-07-01</td>\n",
       "      <td>276000.0</td>\n",
       "      <td>1.0</td>\n",
       "      <td>0.75</td>\n",
       "      <td>370.0</td>\n",
       "      <td>1801</td>\n",
       "      <td>1</td>\n",
       "      <td>0</td>\n",
       "      <td>0</td>\n",
       "      <td>...</td>\n",
       "      <td>5</td>\n",
       "      <td>370</td>\n",
       "      <td>0</td>\n",
       "      <td>1923</td>\n",
       "      <td>0</td>\n",
       "      <td>98117</td>\n",
       "      <td>47.6778</td>\n",
       "      <td>-122.389</td>\n",
       "      <td>1340.0</td>\n",
       "      <td>5000.0</td>\n",
       "    </tr>\n",
       "    <tr>\n",
       "      <th>2</th>\n",
       "      <td>1723049033</td>\n",
       "      <td>2014-06-20</td>\n",
       "      <td>245000.0</td>\n",
       "      <td>1.0</td>\n",
       "      <td>0.75</td>\n",
       "      <td>380.0</td>\n",
       "      <td>15000</td>\n",
       "      <td>1</td>\n",
       "      <td>0</td>\n",
       "      <td>0</td>\n",
       "      <td>...</td>\n",
       "      <td>5</td>\n",
       "      <td>380</td>\n",
       "      <td>0</td>\n",
       "      <td>1963</td>\n",
       "      <td>0</td>\n",
       "      <td>98168</td>\n",
       "      <td>47.4810</td>\n",
       "      <td>-122.323</td>\n",
       "      <td>1170.0</td>\n",
       "      <td>15000.0</td>\n",
       "    </tr>\n",
       "    <tr>\n",
       "      <th>3</th>\n",
       "      <td>1222029077</td>\n",
       "      <td>2014-10-29</td>\n",
       "      <td>265000.0</td>\n",
       "      <td>0.0</td>\n",
       "      <td>0.75</td>\n",
       "      <td>384.0</td>\n",
       "      <td>213444</td>\n",
       "      <td>1</td>\n",
       "      <td>0</td>\n",
       "      <td>0</td>\n",
       "      <td>...</td>\n",
       "      <td>4</td>\n",
       "      <td>384</td>\n",
       "      <td>0</td>\n",
       "      <td>2003</td>\n",
       "      <td>0</td>\n",
       "      <td>98070</td>\n",
       "      <td>47.4177</td>\n",
       "      <td>-122.491</td>\n",
       "      <td>1920.0</td>\n",
       "      <td>224341.0</td>\n",
       "    </tr>\n",
       "    <tr>\n",
       "      <th>4</th>\n",
       "      <td>6896300380</td>\n",
       "      <td>2014-10-02</td>\n",
       "      <td>228000.0</td>\n",
       "      <td>0.0</td>\n",
       "      <td>1.00</td>\n",
       "      <td>390.0</td>\n",
       "      <td>5900</td>\n",
       "      <td>1</td>\n",
       "      <td>0</td>\n",
       "      <td>0</td>\n",
       "      <td>...</td>\n",
       "      <td>4</td>\n",
       "      <td>390</td>\n",
       "      <td>0</td>\n",
       "      <td>1953</td>\n",
       "      <td>0</td>\n",
       "      <td>98118</td>\n",
       "      <td>47.5260</td>\n",
       "      <td>-122.261</td>\n",
       "      <td>2170.0</td>\n",
       "      <td>6000.0</td>\n",
       "    </tr>\n",
       "  </tbody>\n",
       "</table>\n",
       "<p>5 rows × 21 columns</p>\n",
       "</div>"
      ],
      "text/plain": [
       "           id       date     price  bedrooms  bathrooms  sqft_living  \\\n",
       "0  3980300371 2014-09-26  142000.0       0.0       0.00        290.0   \n",
       "1  2856101479 2014-07-01  276000.0       1.0       0.75        370.0   \n",
       "2  1723049033 2014-06-20  245000.0       1.0       0.75        380.0   \n",
       "3  1222029077 2014-10-29  265000.0       0.0       0.75        384.0   \n",
       "4  6896300380 2014-10-02  228000.0       0.0       1.00        390.0   \n",
       "\n",
       "   sqft_lot floors  waterfront  view     ...      grade  sqft_above  \\\n",
       "0     20875      1           0     0     ...          1         290   \n",
       "1      1801      1           0     0     ...          5         370   \n",
       "2     15000      1           0     0     ...          5         380   \n",
       "3    213444      1           0     0     ...          4         384   \n",
       "4      5900      1           0     0     ...          4         390   \n",
       "\n",
       "   sqft_basement  yr_built  yr_renovated  zipcode      lat     long  \\\n",
       "0              0      1963             0    98024  47.5308 -121.888   \n",
       "1              0      1923             0    98117  47.6778 -122.389   \n",
       "2              0      1963             0    98168  47.4810 -122.323   \n",
       "3              0      2003             0    98070  47.4177 -122.491   \n",
       "4              0      1953             0    98118  47.5260 -122.261   \n",
       "\n",
       "   sqft_living15  sqft_lot15  \n",
       "0         1620.0     22850.0  \n",
       "1         1340.0      5000.0  \n",
       "2         1170.0     15000.0  \n",
       "3         1920.0    224341.0  \n",
       "4         2170.0      6000.0  \n",
       "\n",
       "[5 rows x 21 columns]"
      ]
     },
     "execution_count": 4,
     "metadata": {},
     "output_type": "execute_result"
    }
   ],
   "source": [
    "sales = pd.read_csv('kc_house_data.csv', dtype=dtype_dict, parse_dates=['date'])\n",
    "sales = sales.sort_values(['sqft_living','price']).reset_index(drop=True)\n",
    "sales.head()"
   ]
  },
  {
   "cell_type": "code",
   "execution_count": 6,
   "metadata": {},
   "outputs": [
    {
     "data": {
      "text/plain": [
       "Ridge(alpha=1.5e-05, copy_X=True, fit_intercept=True, max_iter=None,\n",
       "   normalize=True, random_state=None, solver='auto', tol=0.001)"
      ]
     },
     "execution_count": 6,
     "metadata": {},
     "output_type": "execute_result"
    }
   ],
   "source": [
    "from sklearn import linear_model\n",
    "l2_small_penalty = 1.5e-5\n",
    "poly15_data = polynomial_dataframe(sales['sqft_living'], 15)\n",
    "model = linear_model.Ridge(alpha=l2_small_penalty, normalize=True)\n",
    "model.fit(poly15_data, sales['price'])"
   ]
  },
  {
   "cell_type": "code",
   "execution_count": 8,
   "metadata": {},
   "outputs": [
    {
     "data": {
      "text/plain": [
       "array([  1.24873306e+02,  -4.77376011e-02,   3.01446238e-05,\n",
       "        -2.44419942e-09,  -1.94153675e-13,   8.54085686e-18,\n",
       "         1.51142121e-21,   8.27979094e-26,   6.52603100e-31,\n",
       "        -3.27895017e-34,  -3.87962315e-38,  -2.72437650e-42,\n",
       "        -1.07790800e-46,   3.78242694e-51,   1.39790296e-54])"
      ]
     },
     "execution_count": 8,
     "metadata": {},
     "output_type": "execute_result"
    }
   ],
   "source": [
    "model.coef_"
   ]
  },
  {
   "cell_type": "code",
   "execution_count": 9,
   "metadata": {},
   "outputs": [],
   "source": [
    "df_1 = pd.read_csv('wk3_kc_house_set_1_data.csv', dtype=dtype_dict, parse_dates=['date'])\n",
    "df_2 = pd.read_csv('wk3_kc_house_set_2_data.csv', dtype=dtype_dict, parse_dates=['date'])\n",
    "df_3 = pd.read_csv('wk3_kc_house_set_3_data.csv', dtype=dtype_dict, parse_dates=['date'])\n",
    "df_4 = pd.read_csv('wk3_kc_house_set_4_data.csv', dtype=dtype_dict, parse_dates=['date'])"
   ]
  },
  {
   "cell_type": "code",
   "execution_count": 11,
   "metadata": {},
   "outputs": [
    {
     "name": "stdout",
     "output_type": "stream",
     "text": [
      "[  5.44669390e+02  -3.55447596e-01   1.22446377e-04  -1.17175306e-08\n",
      "  -3.90512491e-13  -1.39076430e-17   1.47860317e-20   6.87491797e-25\n",
      "  -7.57204088e-29  -1.04097291e-32  -3.71844322e-37   3.39989425e-41\n",
      "   5.56592036e-45   2.53761358e-49  -3.35152911e-53]\n",
      "[  8.59362667e+02  -8.18118300e-01   4.28879996e-04  -9.12770690e-08\n",
      "  -2.69604430e-12   3.73980329e-15  -1.42711929e-19  -6.30794700e-23\n",
      "  -1.44559582e-27   7.44321382e-31   9.25865793e-35   3.28006663e-41\n",
      "  -1.29543494e-42  -1.38781261e-46   1.66546444e-50]\n",
      "[ -7.55395915e+02   9.75579473e-01  -4.58945958e-04   7.77957930e-08\n",
      "   7.15013764e-12  -2.88602020e-15  -2.13678131e-20   3.38085254e-23\n",
      "   2.19178219e-27  -1.97067811e-31  -4.15993182e-35  -1.80196180e-39\n",
      "   3.19071188e-43   5.08456920e-47  -3.93304273e-51]\n",
      "[  1.11944570e+03  -9.83760193e-01   3.38770885e-04   3.60377237e-08\n",
      "  -4.37814013e-11   5.77191657e-15   7.66795260e-19  -9.49297595e-23\n",
      "  -1.96030840e-26  -2.10879012e-32   3.31005056e-34   3.47733887e-38\n",
      "  -2.43039258e-42  -8.79553317e-46   6.44569702e-50]\n"
     ]
    }
   ],
   "source": [
    "l2_small_penalty=1e-9\n",
    "for df in [df_1, df_2, df_3, df_4]:\n",
    "    poly_data = polynomial_dataframe(df['sqft_living'], 15)\n",
    "    model = linear_model.Ridge(alpha=l2_small_penalty, normalize=True)\n",
    "    model.fit(poly_data, df['price'])\n",
    "    print(model.coef_)"
   ]
  },
  {
   "cell_type": "code",
   "execution_count": 12,
   "metadata": {},
   "outputs": [
    {
     "name": "stdout",
     "output_type": "stream",
     "text": [
      "[  2.32806803e+00   3.53621608e-04   3.31969692e-08   2.00082477e-12\n",
      "   1.11492559e-16   6.57786122e-21   4.12939525e-25   2.70393755e-29\n",
      "   1.81614763e-33   1.23824277e-37   8.51872481e-42   5.89455598e-46\n",
      "   4.09542560e-50   2.85464889e-54   1.99547476e-58]\n",
      "[  2.09756903e+00   3.90817483e-04   6.67189944e-08   8.90002997e-12\n",
      "   9.72639877e-16   9.69733682e-20   9.50564475e-24   9.44491031e-28\n",
      "   9.57191338e-32   9.86945155e-36   1.03101115e-39   1.08729784e-43\n",
      "   1.15453748e-47   1.23211305e-51   1.31986696e-55]\n",
      "[  2.28906258e+00   4.12472190e-04   6.08835345e-08   6.58572163e-12\n",
      "   6.15278155e-16   5.64446634e-20   5.28834396e-24   5.07091402e-28\n",
      "   4.94657273e-32   4.88043809e-36   4.85009106e-40   4.84161534e-44\n",
      "   4.84635021e-48   4.85883628e-52   4.87558469e-56]\n",
      "[  2.08596194e+00   4.05035772e-04   7.46864647e-08   1.13096608e-11\n",
      "   1.45864442e-15   1.73561251e-19   2.01609632e-23   2.34605255e-27\n",
      "   2.75636073e-31   3.27043069e-35   3.91046855e-39   4.70118041e-43\n",
      "   5.67212304e-47   6.85958087e-51   8.30843630e-55]\n"
     ]
    }
   ],
   "source": [
    "l2_large_penalty=123.\n",
    "for df in [df_1, df_2, df_3, df_4]:\n",
    "    poly_data = polynomial_dataframe(df['sqft_living'], 15)\n",
    "    model = linear_model.Ridge(alpha=l2_large_penalty, normalize=True)\n",
    "    model.fit(poly_data, df['price'])\n",
    "    print(model.coef_)"
   ]
  },
  {
   "cell_type": "code",
   "execution_count": 13,
   "metadata": {},
   "outputs": [],
   "source": [
    "train_valid_shuffled = pd.read_csv('wk3_kc_house_train_valid_shuffled.csv', \n",
    "                                   dtype=dtype_dict, parse_dates=['date'])\n",
    "test = pd.read_csv('wk3_kc_house_test_data.csv', dtype=dtype_dict, parse_dates=['date'])"
   ]
  },
  {
   "cell_type": "code",
   "execution_count": 86,
   "metadata": {},
   "outputs": [],
   "source": [
    "def k_fold_cross_validation(k, l2_penalty, df, output):\n",
    "    n = len(df)\n",
    "    all_rss = []\n",
    "    poly_data = polynomial_dataframe(df['sqft_living'], 15)\n",
    "    for i in range(k):\n",
    "        start = (n*i)//k\n",
    "        end = (n*(i+1))//k - 1\n",
    "        validation = poly_data[start:end+1]\n",
    "        y_val = df[start:end+1][output]\n",
    "        train = poly_data.iloc[0:start, :].append(poly_data.iloc[end+1:, :])\n",
    "        y = (df.iloc[0:start, :].append(df.iloc[end+1:, :]))[output]\n",
    "        model = linear_model.Ridge(alpha=l2_penalty, normalize=True)\n",
    "        if (train.index != y.index).sum() > 0:\n",
    "            print('train index mismatch!')\n",
    "        if (validation.index != y_val.index).sum() > 0:\n",
    "            print('validation index mismatch!')\n",
    "        # fit the model\n",
    "        model.fit(train, y)\n",
    "        rss = np.sum(np.square(model.predict(validation) - y_val))\n",
    "        all_rss.append(rss)\n",
    "        \n",
    "    return np.array(all_rss).mean()"
   ]
  },
  {
   "cell_type": "code",
   "execution_count": 87,
   "metadata": {},
   "outputs": [],
   "source": [
    "all_l2 = np.logspace(1, 7, num=13)\n",
    "all_avg_rss = []\n",
    "for l2 in all_l2:\n",
    "    avg_rss = k_fold_cross_validation(10, l2, train_valid_shuffled, 'price')\n",
    "    all_avg_rss.append(avg_rss)"
   ]
  },
  {
   "cell_type": "code",
   "execution_count": 88,
   "metadata": {},
   "outputs": [
    {
     "data": {
      "image/png": "[encoded data removed]",
      "text/plain": [
       "<Figure size 432x288 with 1 Axes>"
      ]
     },
     "metadata": {},
     "output_type": "display_data"
    }
   ],
   "source": [
    "plt.figure()\n",
    "plt.loglog(all_l2, all_avg_rss, 'o-')\n",
    "plt.show()"
   ]
  },
  {
   "cell_type": "code",
   "execution_count": 89,
   "metadata": {},
   "outputs": [
    {
     "name": "stdout",
     "output_type": "stream",
     "text": [
      "best L2: 1.000e+01\n"
     ]
    },
    {
     "data": {
      "text/plain": [
       "Ridge(alpha=100, copy_X=True, fit_intercept=True, max_iter=None,\n",
       "   normalize=True, random_state=None, solver='auto', tol=0.001)"
      ]
     },
     "execution_count": 89,
     "metadata": {},
     "output_type": "execute_result"
    }
   ],
   "source": [
    "best_l2 = all_l2[np.argmin(all_avg_rss)]\n",
    "print('best L2: {:6.3e}'.format(best_l2))\n",
    "\n",
    "poly_data = polynomial_dataframe(test['sqft_living'], 15)\n",
    "final_model = linear_model.Ridge(alpha=100, normalize=True)\n",
    "final_model.fit(poly_data, test['price'])"
   ]
  },
  {
   "cell_type": "code",
   "execution_count": 75,
   "metadata": {},
   "outputs": [
    {
     "name": "stdout",
     "output_type": "stream",
     "text": [
      "2.719e+14\n"
     ]
    }
   ],
   "source": [
    "print('{:6.3e}'.format(np.sum(np.square(final_model.predict(poly_data) - test['price']))))"
   ]
  },
  {
   "cell_type": "code",
   "execution_count": null,
   "metadata": {},
   "outputs": [],
   "source": []
  }
 ],
 "metadata": {
  "kernelspec": {
   "display_name": "Python [conda root]",
   "language": "python",
   "name": "conda-root-py"
  },
  "language_info": {
   "codemirror_mode": {
    "name": "ipython",
    "version": 3
   },
   "file_extension": ".py",
   "mimetype": "text/x-python",
   "name": "python",
   "nbconvert_exporter": "python",
   "pygments_lexer": "ipython3",
   "version": "3.5.2"
  }
 },
 "nbformat": 4,
 "nbformat_minor": 2
}
