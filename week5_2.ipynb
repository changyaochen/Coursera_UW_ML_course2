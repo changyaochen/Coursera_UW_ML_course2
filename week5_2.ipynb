{
 "cells": [
  {
   "cell_type": "code",
   "execution_count": 1,
   "metadata": {},
   "outputs": [],
   "source": [
    "%matplotlib inline\n",
    "import matplotlib.pyplot as plt\n",
    "import seaborn as sns\n",
    "import pandas as pd\n",
    "import numpy as np\n",
    "from math import log, sqrt"
   ]
  },
  {
   "cell_type": "code",
   "execution_count": 2,
   "metadata": {},
   "outputs": [],
   "source": [
    "dtype_dict = {'bathrooms':float, 'waterfront':int, 'sqft_above':int, 'sqft_living15':float, \n",
    "              'grade':int, 'yr_renovated':int, 'price':float, 'bedrooms':float, 'zipcode':str, \n",
    "              'long':float, 'sqft_lot15':float, 'sqft_living':float, 'floors':float, \n",
    "              'condition':int, 'lat':float, 'date':str, 'sqft_basement':int, 'yr_built':int, \n",
    "              'id':str, 'sqft_lot':int, 'view':int}\n",
    "\n",
    "sales = pd.read_csv('kc_house_data.csv', dtype=dtype_dict, parse_dates=['date'])"
   ]
  },
  {
   "cell_type": "code",
   "execution_count": 3,
   "metadata": {},
   "outputs": [],
   "source": [
    "def get_X_y(df, features, output):\n",
    "    X = np.c_[np.ones(df.shape[0]), df[features].values]\n",
    "    y = df[output].values\n",
    "    return X, y\n",
    "\n",
    "def predict_output(feature_matrix, weights):\n",
    "    pred = np.matmul(feature_matrix, weights.T)    \n",
    "    return pred\n",
    "    \n",
    "def normalize_features(X):\n",
    "    norms = np.linalg.norm(X, axis=0)\n",
    "    X_normalized = X / norms\n",
    "    return X_normalized, norms\n",
    "\n",
    "def rho(j, X, y, weights):\n",
    "    rho = np.dot(X[:, j], (y - predict_output(X, weights) + X[:, j]*weights[j]))\n",
    "    return rho\n",
    "\n",
    "def lasso_coordinate_descent_step(i, feature_matrix, output, weights, l1_penalty):\n",
    "    # compute prediction\n",
    "    prediction = predict_output(feature_matrix, weights)\n",
    "    # compute rho[i] = SUM[ [feature_i]*(output - prediction + weight[i]*[feature_i]) ]\n",
    "    rho_i = rho(i, feature_matrix, output, weights)\n",
    "    \n",
    "    if i == 0: # intercept -- do not regularize\n",
    "        new_weight_i = rho_i\n",
    "    elif rho_i < -l1_penalty/2.:\n",
    "        new_weight_i = rho_i + l1_penalty/2.\n",
    "    elif rho_i > l1_penalty/2.:\n",
    "        new_weight_i = rho_i - l1_penalty/2.\n",
    "    else:\n",
    "        new_weight_i = 0.\n",
    "    \n",
    "    return new_weight_i\n",
    "\n",
    "def lasso_cyclical_coordinate_descent(feature_matrix, output, initial_weights, \n",
    "                                      l1_penalty, tolerance):\n",
    "    weights = initial_weights\n",
    "    diff_weights = [float('inf') for _ in range(len(weights))]\n",
    "    while max(diff_weights) > tolerance:\n",
    "        new_weights = np.copy(weights)\n",
    "        for i in range(len(weights)):\n",
    "            new_weight_i = lasso_coordinate_descent_step(i, feature_matrix, \n",
    "                                                         output, new_weights, l1_penalty)\n",
    "            new_weights[i] = new_weight_i\n",
    "        diff_weights = [abs(x - y) for x, y in zip(new_weights, weights)]\n",
    "        weights = np.array(new_weights)\n",
    "#         print(weights)\n",
    "    return weights"
   ]
  },
  {
   "cell_type": "code",
   "execution_count": 4,
   "metadata": {
    "scrolled": false
   },
   "outputs": [
    {
     "name": "stdout",
     "output_type": "stream",
     "text": [
      "1.758789e+08\n",
      "1.686109e+08\n",
      "[ 21624997.96137046  63157247.20619597         0.        ]\n"
     ]
    }
   ],
   "source": [
    "X, y = get_X_y(sales, ['sqft_living', 'bathrooms'], 'price')\n",
    "X_normalized, norms = normalize_features(X)\n",
    "weights = np.array([1., 4., 1.])\n",
    "print('{:e}'.format(2*rho(1, X_normalized, y, weights)))\n",
    "print('{:e}'.format(2*rho(2, X_normalized, y, weights)))\n",
    "learned_weights = lasso_cyclical_coordinate_descent(X_normalized, y, initial_weights=weights, \n",
    "                                      l1_penalty=1e7, tolerance=1.)\n",
    "print(learned_weights)"
   ]
  },
  {
   "cell_type": "code",
   "execution_count": 5,
   "metadata": {},
   "outputs": [
    {
     "name": "stdout",
     "output_type": "stream",
     "text": [
      "1.63049247673e+15\n"
     ]
    }
   ],
   "source": [
    "rss = np.square(predict_output(feature_matrix=X_normalized, weights=learned_weights) - y).sum()\n",
    "print(rss)"
   ]
  },
  {
   "cell_type": "code",
   "execution_count": 6,
   "metadata": {},
   "outputs": [],
   "source": [
    "train = pd.read_csv('kc_house_train_data.csv', dtype=dtype_dict, parse_dates=['date'])\n",
    "train = pd.read_csv('kc_house_test_data.csv', dtype=dtype_dict, parse_dates=['date'])"
   ]
  },
  {
   "cell_type": "code",
   "execution_count": 7,
   "metadata": {},
   "outputs": [
    {
     "name": "stdout",
     "output_type": "stream",
     "text": [
      "bedrooms 0.0\n",
      "bathrooms 0.0\n",
      "sqft_living 6211298.91051\n",
      "sqft_lot 0.0\n",
      "floors 0.0\n",
      "waterfront 0.0\n",
      "view 4034298.43186\n",
      "condition 0.0\n",
      "grade 0.0\n",
      "sqft_above 0.0\n",
      "sqft_basement 0.0\n",
      "yr_built 0.0\n",
      "yr_renovated 0.0\n"
     ]
    }
   ],
   "source": [
    "features = ['bedrooms', 'bathrooms', 'sqft_living', 'sqft_lot', 'floors', 'waterfront', \n",
    "            'view', 'condition', 'grade', 'sqft_above', 'sqft_basement', 'yr_built', \n",
    "            'yr_renovated']\n",
    "X, y = get_X_y(train, features, 'price')\n",
    "weights = np.zeros(len(features)+1)\n",
    "X_normalized, norms = normalize_features(X)\n",
    "weights1e7 = lasso_cyclical_coordinate_descent(X_normalized, y, initial_weights=weights, \n",
    "                                      l1_penalty=1e7, tolerance=1.)\n",
    "for i in range(len(features)):\n",
    "    print(features[i], weights1e7[i+1])"
   ]
  },
  {
   "cell_type": "code",
   "execution_count": 8,
   "metadata": {},
   "outputs": [
    {
     "name": "stdout",
     "output_type": "stream",
     "text": [
      "bedrooms 0.0\n",
      "bathrooms 0.0\n",
      "sqft_living 0.0\n",
      "sqft_lot 0.0\n",
      "floors 0.0\n",
      "waterfront 0.0\n",
      "view 0.0\n",
      "condition 0.0\n",
      "grade 0.0\n",
      "sqft_above 0.0\n",
      "sqft_basement 0.0\n",
      "yr_built 0.0\n",
      "yr_renovated 0.0\n"
     ]
    }
   ],
   "source": [
    "weights1e8 = lasso_cyclical_coordinate_descent(X_normalized, y, initial_weights=weights, \n",
    "                                      l1_penalty=1e8, tolerance=1.)\n",
    "for i in range(len(features)):\n",
    "    print(features[i], weights1e8[i+1])"
   ]
  },
  {
   "cell_type": "code",
   "execution_count": 9,
   "metadata": {},
   "outputs": [
    {
     "name": "stdout",
     "output_type": "stream",
     "text": [
      "bedrooms -1003478.40659\n",
      "bathrooms 13603866.1149\n",
      "sqft_living 18236373.7379\n",
      "sqft_lot -1486948.41802\n",
      "floors -6909729.83159\n",
      "waterfront 2610963.45337\n",
      "view 4601807.14304\n",
      "condition -9674853.97344\n",
      "grade 2721542.80438\n",
      "sqft_above 10824915.8951\n",
      "sqft_basement 1307362.20656\n",
      "yr_built -27532090.7729\n",
      "yr_renovated 1479911.28195\n"
     ]
    }
   ],
   "source": [
    "weights1e4 = lasso_cyclical_coordinate_descent(X_normalized, y, initial_weights=weights, \n",
    "                                      l1_penalty=1e4, tolerance=5e5)\n",
    "for i in range(len(features)):\n",
    "    print(features[i], weights1e4[i+1])"
   ]
  },
  {
   "cell_type": "code",
   "execution_count": 10,
   "metadata": {},
   "outputs": [],
   "source": [
    "normalized_weights1e7 = weights1e7 / norms\n",
    "normalized_weights1e8 = weights1e8 / norms\n",
    "normalized_weights1e4 = weights1e4 / norms"
   ]
  },
  {
   "cell_type": "code",
   "execution_count": 11,
   "metadata": {},
   "outputs": [
    {
     "name": "stdout",
     "output_type": "stream",
     "text": [
      "4.07721622772e+14\n"
     ]
    }
   ],
   "source": [
    "rss1e7 = np.square(predict_output(feature_matrix=X, \n",
    "                                  weights=normalized_weights1e7) - y).sum()\n",
    "print(rss1e7)"
   ]
  },
  {
   "cell_type": "code",
   "execution_count": 12,
   "metadata": {},
   "outputs": [
    {
     "name": "stdout",
     "output_type": "stream",
     "text": [
      "5.37108649657e+14\n"
     ]
    }
   ],
   "source": [
    "rss1e8 = np.square(predict_output(feature_matrix=X, \n",
    "                                  weights=normalized_weights1e8) - y).sum()\n",
    "print(rss1e8)"
   ]
  },
  {
   "cell_type": "code",
   "execution_count": 13,
   "metadata": {},
   "outputs": [
    {
     "name": "stdout",
     "output_type": "stream",
     "text": [
      "2.503445952e+14\n"
     ]
    }
   ],
   "source": [
    "rss1e4 = np.square(predict_output(feature_matrix=X, \n",
    "                                  weights=normalized_weights1e4) - y).sum()\n",
    "print(rss1e4)"
   ]
  },
  {
   "cell_type": "code",
   "execution_count": null,
   "metadata": {},
   "outputs": [],
   "source": []
  }
 ],
 "metadata": {
  "anaconda-cloud": {},
  "kernelspec": {
   "display_name": "Python [conda root]",
   "language": "python",
   "name": "conda-root-py"
  },
  "language_info": {
   "codemirror_mode": {
    "name": "ipython",
    "version": 3
   },
   "file_extension": ".py",
   "mimetype": "text/x-python",
   "name": "python",
   "nbconvert_exporter": "python",
   "pygments_lexer": "ipython3",
   "version": "3.5.2"
  }
 },
 "nbformat": 4,
 "nbformat_minor": 2
}
