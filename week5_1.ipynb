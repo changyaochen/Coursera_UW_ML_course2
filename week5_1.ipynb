{
 "cells": [
  {
   "cell_type": "code",
   "execution_count": 1,
   "metadata": {},
   "outputs": [],
   "source": [
    "%matplotlib inline\n",
    "import matplotlib.pyplot as plt\n",
    "import seaborn as sns\n",
    "import pandas as pd\n",
    "import numpy as np\n",
    "from math import log, sqrt"
   ]
  },
  {
   "cell_type": "code",
   "execution_count": 3,
   "metadata": {},
   "outputs": [],
   "source": [
    "dtype_dict = {'bathrooms':float, 'waterfront':int, 'sqft_above':int, 'sqft_living15':float, \n",
    "              'grade':int, 'yr_renovated':int, 'price':float, 'bedrooms':float, 'zipcode':str, \n",
    "              'long':float, 'sqft_lot15':float, 'sqft_living':float, 'floors':float, \n",
    "              'condition':int, 'lat':float, 'date':str, 'sqft_basement':int, 'yr_built':int, \n",
    "              'id':str, 'sqft_lot':int, 'view':int}\n",
    "\n",
    "sales = pd.read_csv('kc_house_data.csv', dtype=dtype_dict, parse_dates=['date'])\n",
    "sales['sqft_living_sqrt'] = sales['sqft_living'].apply(sqrt)\n",
    "sales['sqft_lot_sqrt'] = sales['sqft_lot'].apply(sqrt)\n",
    "sales['bedrooms_square'] = sales['bedrooms']*sales['bedrooms']\n",
    "sales['floors_square'] = sales['floors']*sales['floors']"
   ]
  },
  {
   "cell_type": "code",
   "execution_count": 4,
   "metadata": {},
   "outputs": [
    {
     "data": {
      "text/plain": [
       "Lasso(alpha=500.0, copy_X=True, fit_intercept=True, max_iter=1000,\n",
       "   normalize=True, positive=False, precompute=False, random_state=None,\n",
       "   selection='cyclic', tol=0.0001, warm_start=False)"
      ]
     },
     "execution_count": 4,
     "metadata": {},
     "output_type": "execute_result"
    }
   ],
   "source": [
    "from sklearn import linear_model  # using scikit-learn\n",
    "\n",
    "all_features = ['bedrooms', 'bedrooms_square',\n",
    "            'bathrooms',\n",
    "            'sqft_living', 'sqft_living_sqrt',\n",
    "            'sqft_lot', 'sqft_lot_sqrt',\n",
    "            'floors', 'floors_square',\n",
    "            'waterfront', 'view', 'condition', 'grade',\n",
    "            'sqft_above',\n",
    "            'sqft_basement',\n",
    "            'yr_built', 'yr_renovated']\n",
    "\n",
    "model_all = linear_model.Lasso(alpha=5e2, normalize=True) # set parameters\n",
    "model_all.fit(sales[all_features], sales['price']) # learn weights"
   ]
  },
  {
   "cell_type": "code",
   "execution_count": 9,
   "metadata": {},
   "outputs": [
    {
     "name": "stdout",
     "output_type": "stream",
     "text": [
      "134.439313955 sqft_living\n",
      "24750.0045856 view\n",
      "61749.1030907 grade\n"
     ]
    }
   ],
   "source": [
    "## quiz\n",
    "for i, x in enumerate(all_features):\n",
    "    if model_all.coef_[i] != 0:\n",
    "        print(model_all.coef_[i], x)"
   ]
  },
  {
   "cell_type": "code",
   "execution_count": 10,
   "metadata": {},
   "outputs": [],
   "source": [
    "testing = pd.read_csv('wk3_kc_house_test_data.csv', dtype=dtype_dict)\n",
    "training = pd.read_csv('wk3_kc_house_train_data.csv', dtype=dtype_dict)\n",
    "validation = pd.read_csv('wk3_kc_house_valid_data.csv', dtype=dtype_dict)"
   ]
  },
  {
   "cell_type": "code",
   "execution_count": 11,
   "metadata": {},
   "outputs": [],
   "source": [
    "testing['sqft_living_sqrt'] = testing['sqft_living'].apply(sqrt)\n",
    "testing['sqft_lot_sqrt'] = testing['sqft_lot'].apply(sqrt)\n",
    "testing['bedrooms_square'] = testing['bedrooms']*testing['bedrooms']\n",
    "testing['floors_square'] = testing['floors']*testing['floors']\n",
    "\n",
    "training['sqft_living_sqrt'] = training['sqft_living'].apply(sqrt)\n",
    "training['sqft_lot_sqrt'] = training['sqft_lot'].apply(sqrt)\n",
    "training['bedrooms_square'] = training['bedrooms']*training['bedrooms']\n",
    "training['floors_square'] = training['floors']*training['floors']\n",
    "\n",
    "validation['sqft_living_sqrt'] = validation['sqft_living'].apply(sqrt)\n",
    "validation['sqft_lot_sqrt'] = validation['sqft_lot'].apply(sqrt)\n",
    "validation['bedrooms_square'] = validation['bedrooms']*validation['bedrooms']\n",
    "validation['floors_square'] = validation['floors']*validation['floors']"
   ]
  },
  {
   "cell_type": "code",
   "execution_count": 18,
   "metadata": {},
   "outputs": [],
   "source": [
    "models = []\n",
    "rsses = []\n",
    "l1_penalties = np.logspace(1, 7, num=13)\n",
    "for l1 in l1_penalties:\n",
    "    model = linear_model.Lasso(alpha=l1, normalize=True) # set parameters\n",
    "    model.fit(training[all_features], training['price']) # learn weights\n",
    "    models.append(model)\n",
    "    rss = np.sum(np.square(model.predict(validation[all_features]) - validation['price']))\n",
    "    rsses.append(rss)"
   ]
  },
  {
   "cell_type": "code",
   "execution_count": 19,
   "metadata": {},
   "outputs": [
    {
     "data": {
      "text/plain": [
       "array([  1.00000000e+01,   3.16227766e+01,   1.00000000e+02,\n",
       "         3.16227766e+02,   1.00000000e+03,   3.16227766e+03,\n",
       "         1.00000000e+04,   3.16227766e+04,   1.00000000e+05,\n",
       "         3.16227766e+05,   1.00000000e+06,   3.16227766e+06,\n",
       "         1.00000000e+07])"
      ]
     },
     "execution_count": 19,
     "metadata": {},
     "output_type": "execute_result"
    }
   ],
   "source": [
    "l1_penalties"
   ]
  },
  {
   "cell_type": "code",
   "execution_count": 21,
   "metadata": {},
   "outputs": [
    {
     "name": "stdout",
     "output_type": "stream",
     "text": [
      "-16144.5627571 bedrooms\n",
      "373.245384349 bedrooms_square\n",
      "50841.2433399 bathrooms\n",
      "617.853559504 sqft_living\n",
      "-44411.3548667 sqft_living_sqrt\n",
      "0.785623064832 sqft_lot\n",
      "-701.194765368 sqft_lot_sqrt\n",
      "5014.20045697 floors_square\n",
      "619488.752486 waterfront\n",
      "38041.8556525 view\n",
      "24998.7718382 condition\n",
      "128716.234621 grade\n",
      "-3293.83117995 yr_built\n",
      "10.0573208643 yr_renovated\n"
     ]
    }
   ],
   "source": [
    "for i, x in enumerate(all_features):\n",
    "    if models[0].coef_[i] != 0:\n",
    "        print(models[0].coef_[i], x)  # 15 in total (including intercept)"
   ]
  },
  {
   "cell_type": "code",
   "execution_count": 60,
   "metadata": {},
   "outputs": [],
   "source": [
    "max_nonzeros = 7\n",
    "models = []\n",
    "rsses = []\n",
    "l1_penalties = np.logspace(1, 2.5, num=200)\n",
    "l1s = []\n",
    "nonzeros = []\n",
    "for l1 in l1_penalties:\n",
    "    model = linear_model.Lasso(alpha=l1, normalize=True) # set parameters\n",
    "    model.fit(training[all_features], training['price']) # learn weights\n",
    "    nnz_count = np.count_nonzero(model.coef_) + np.count_nonzero(model.intercept_)\n",
    "    if nnz_count == max_nonzeros:\n",
    "        l1s.append(l1)\n",
    "        models.append(model)\n",
    "        rss = np.sum(np.square(model.predict(validation[all_features]) - validation['price']))\n",
    "        rsses.append(rss)"
   ]
  },
  {
   "cell_type": "code",
   "execution_count": 61,
   "metadata": {},
   "outputs": [
    {
     "data": {
      "text/plain": [
       "[155.22253574270479,\n",
       " 157.94011951465393,\n",
       " 160.70528182616385,\n",
       " 163.51885566624858,\n",
       " 166.38168860761274,\n",
       " 169.29464306197789,\n",
       " 172.25859653987874,\n",
       " 175.27444191500823,\n",
       " 178.34308769319094,\n",
       " 181.46545828606469,\n",
       " 184.64249428955426,\n",
       " 187.87515276722067,\n",
       " 191.16440753857017,\n",
       " 194.51124947241311,\n",
       " 197.91668678535575,\n",
       " 201.38174534552101,\n",
       " 204.9074689815846]"
      ]
     },
     "execution_count": 61,
     "metadata": {},
     "output_type": "execute_result"
    }
   ],
   "source": [
    "l1s"
   ]
  },
  {
   "cell_type": "code",
   "execution_count": 62,
   "metadata": {},
   "outputs": [
    {
     "data": {
      "text/plain": [
       "[439949715448732.8,\n",
       " 440222783151840.94,\n",
       " 440506486911241.9,\n",
       " 440803020662235.1,\n",
       " 441112744351832.06,\n",
       " 441436134533178.06,\n",
       " 441773747328224.3,\n",
       " 442126134273697.4,\n",
       " 442493856428185.8,\n",
       " 442877546662565.94,\n",
       " 443277803676887.2,\n",
       " 443695253036967.56,\n",
       " 444132781093838.44,\n",
       " 444586470957058.44,\n",
       " 445059353307090.5,\n",
       " 445552021778652.2,\n",
       " 446067056318656.25]"
      ]
     },
     "execution_count": 62,
     "metadata": {},
     "output_type": "execute_result"
    }
   ],
   "source": [
    "rsses"
   ]
  },
  {
   "cell_type": "code",
   "execution_count": 63,
   "metadata": {},
   "outputs": [
    {
     "name": "stdout",
     "output_type": "stream",
     "text": [
      "10797.2964181 bathrooms\n",
      "163.321518489 sqft_living\n",
      "507158.094785 waterfront\n",
      "41975.1488356 view\n",
      "116346.210565 grade\n",
      "-2618.69036357 yr_built\n"
     ]
    }
   ],
   "source": [
    "for i, x in enumerate(all_features):\n",
    "    if models[0].coef_[i] != 0:\n",
    "        print(models[0].coef_[i], x)"
   ]
  },
  {
   "cell_type": "code",
   "execution_count": null,
   "metadata": {},
   "outputs": [],
   "source": []
  }
 ],
 "metadata": {
  "anaconda-cloud": {},
  "kernelspec": {
   "display_name": "Python [conda root]",
   "language": "python",
   "name": "conda-root-py"
  },
  "language_info": {
   "codemirror_mode": {
    "name": "ipython",
    "version": 3
   },
   "file_extension": ".py",
   "mimetype": "text/x-python",
   "name": "python",
   "nbconvert_exporter": "python",
   "pygments_lexer": "ipython3",
   "version": "3.5.2"
  }
 },
 "nbformat": 4,
 "nbformat_minor": 2
}
